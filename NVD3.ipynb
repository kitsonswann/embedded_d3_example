{
 "cells": [
  {
   "cell_type": "code",
   "execution_count": 1,
   "metadata": {
    "collapsed": false
   },
   "outputs": [
    {
     "name": "stdout",
     "output_type": "stream",
     "text": [
      "loaded nvd3 IPython extension\n",
      "run nvd3.ipynb.initialize_javascript() to set up the notebook\n",
      "help(nvd3.ipynb.initialize_javascript) for options\n"
     ]
    },
    {
     "data": {
      "text/html": [
       "<link media=\"all\" href=\"https://cdnjs.cloudflare.com/ajax/libs/nvd3/1.7.0/nv.d3.min.css\" type=\"text/css\"\n",
       "                        rel=\"stylesheet\"/>"
      ],
      "text/plain": [
       "<IPython.core.display.HTML object>"
      ]
     },
     "metadata": {},
     "output_type": "display_data"
    },
    {
     "data": {
      "application/javascript": [
       "$.getScript(\"https://cdnjs.cloudflare.com/ajax/libs/nvd3/1.7.0/nv.d3.min.js\")"
      ],
      "text/plain": [
       "<IPython.core.display.Javascript object>"
      ]
     },
     "metadata": {},
     "output_type": "display_data"
    },
    {
     "data": {
      "application/javascript": [
       "$.getScript(\"https://cdnjs.cloudflare.com/ajax/libs/d3/3.5.5/d3.min.js\", function() {\n",
       "                              $.getScript(\"https://cdnjs.cloudflare.com/ajax/libs/nvd3/1.7.0/nv.d3.min.js\", function() {})});"
      ],
      "text/plain": [
       "<IPython.core.display.Javascript object>"
      ]
     },
     "metadata": {},
     "output_type": "display_data"
    },
    {
     "data": {
      "text/html": [
       "<script src=\"https://cdnjs.cloudflare.com/ajax/libs/d3/3.5.5/d3.min.js\"></script>"
      ],
      "text/plain": [
       "<IPython.core.display.HTML object>"
      ]
     },
     "metadata": {},
     "output_type": "display_data"
    },
    {
     "data": {
      "text/html": [
       "<script src=\"https://cdnjs.cloudflare.com/ajax/libs/nvd3/1.7.0/nv.d3.min.js\"></script>"
      ],
      "text/plain": [
       "<IPython.core.display.HTML object>"
      ]
     },
     "metadata": {},
     "output_type": "display_data"
    }
   ],
   "source": [
    "import random\n",
    "from IPython import display as d\n",
    "import nvd3\n",
    "nvd3.ipynb.initialize_javascript(use_remote=True)"
   ]
  },
  {
   "cell_type": "code",
   "execution_count": 2,
   "metadata": {
    "collapsed": false
   },
   "outputs": [
    {
     "data": {
      "text/html": [
       "<!DOCTYPE html>\n",
       "<html lang=\"en\">\n",
       "    <head>\n",
       "        <meta charset=\"utf-8\" />\n",
       "        <link href=\"https://cdnjs.cloudflare.com/ajax/libs/nvd3/1.7.0/nv.d3.min.css\" rel=\"stylesheet\" />\n",
       "        <script src=\"https://cdnjs.cloudflare.com/ajax/libs/d3/3.5.5/d3.min.js\"></script>\n",
       "        <script src=\"https://cdnjs.cloudflare.com/ajax/libs/nvd3/1.7.0/nv.d3.min.js\"></script>\n",
       "    </head>\n",
       "    <body>\n",
       "        \n",
       "    <div id=\"stackedareachart\"><svg style=\"width:500px;height:450px;\"></svg></div>\n",
       "\n",
       "\n",
       "    <script>\n",
       "\n",
       "\n",
       "            data_stackedareachart=[{\"key\": \"serie 1\", \"values\": [{\"x\": 0, \"y\": 0}, {\"x\": 1, \"y\": 6}, {\"x\": 2, \"y\": 8}, {\"x\": 3, \"y\": 3}, {\"x\": 4, \"y\": 20}, {\"x\": 5, \"y\": 20}, {\"x\": 6, \"y\": 42}, {\"x\": 7, \"y\": 56}, {\"x\": 8, \"y\": 32}, {\"x\": 9, \"y\": 9}, {\"x\": 10, \"y\": 60}, {\"x\": 11, \"y\": 66}, {\"x\": 12, \"y\": 96}, {\"x\": 13, \"y\": 39}, {\"x\": 14, \"y\": 84}, {\"x\": 15, \"y\": 105}, {\"x\": 16, \"y\": 112}, {\"x\": 17, \"y\": 136}, {\"x\": 18, \"y\": 36}, {\"x\": 19, \"y\": 57}, {\"x\": 20, \"y\": 120}, {\"x\": 21, \"y\": 168}, {\"x\": 22, \"y\": 132}, {\"x\": 23, \"y\": 207}, {\"x\": 24, \"y\": 144}, {\"x\": 25, \"y\": 75}, {\"x\": 26, \"y\": 104}, {\"x\": 27, \"y\": 54}, {\"x\": 28, \"y\": 84}, {\"x\": 29, \"y\": 203}, {\"x\": 30, \"y\": 90}, {\"x\": 31, \"y\": 31}, {\"x\": 32, \"y\": 160}, {\"x\": 33, \"y\": 33}, {\"x\": 34, \"y\": 306}, {\"x\": 35, \"y\": 280}, {\"x\": 36, \"y\": 108}, {\"x\": 37, \"y\": 370}, {\"x\": 38, \"y\": 190}, {\"x\": 39, \"y\": 117}, {\"x\": 40, \"y\": 160}, {\"x\": 41, \"y\": 123}, {\"x\": 42, \"y\": 42}, {\"x\": 43, \"y\": 86}, {\"x\": 44, \"y\": 132}, {\"x\": 45, \"y\": 90}, {\"x\": 46, \"y\": 184}, {\"x\": 47, \"y\": 94}, {\"x\": 48, \"y\": 384}, {\"x\": 49, \"y\": 294}], \"yAxis\": \"1\"}, {\"key\": \"serie 2\", \"values\": [{\"x\": 0, \"y\": 0}, {\"x\": 1, \"y\": 12}, {\"x\": 2, \"y\": 16}, {\"x\": 3, \"y\": 6}, {\"x\": 4, \"y\": 40}, {\"x\": 5, \"y\": 40}, {\"x\": 6, \"y\": 84}, {\"x\": 7, \"y\": 112}, {\"x\": 8, \"y\": 64}, {\"x\": 9, \"y\": 18}, {\"x\": 10, \"y\": 120}, {\"x\": 11, \"y\": 132}, {\"x\": 12, \"y\": 192}, {\"x\": 13, \"y\": 78}, {\"x\": 14, \"y\": 168}, {\"x\": 15, \"y\": 210}, {\"x\": 16, \"y\": 224}, {\"x\": 17, \"y\": 272}, {\"x\": 18, \"y\": 72}, {\"x\": 19, \"y\": 114}, {\"x\": 20, \"y\": 240}, {\"x\": 21, \"y\": 336}, {\"x\": 22, \"y\": 264}, {\"x\": 23, \"y\": 414}, {\"x\": 24, \"y\": 288}, {\"x\": 25, \"y\": 150}, {\"x\": 26, \"y\": 208}, {\"x\": 27, \"y\": 108}, {\"x\": 28, \"y\": 168}, {\"x\": 29, \"y\": 406}, {\"x\": 30, \"y\": 180}, {\"x\": 31, \"y\": 62}, {\"x\": 32, \"y\": 320}, {\"x\": 33, \"y\": 66}, {\"x\": 34, \"y\": 612}, {\"x\": 35, \"y\": 560}, {\"x\": 36, \"y\": 216}, {\"x\": 37, \"y\": 740}, {\"x\": 38, \"y\": 380}, {\"x\": 39, \"y\": 234}, {\"x\": 40, \"y\": 320}, {\"x\": 41, \"y\": 246}, {\"x\": 42, \"y\": 84}, {\"x\": 43, \"y\": 172}, {\"x\": 44, \"y\": 264}, {\"x\": 45, \"y\": 180}, {\"x\": 46, \"y\": 368}, {\"x\": 47, \"y\": 188}, {\"x\": 48, \"y\": 768}, {\"x\": 49, \"y\": 588}], \"yAxis\": \"1\"}, {\"key\": \"serie 3\", \"values\": [{\"x\": 0, \"y\": 0}, {\"x\": 1, \"y\": 30}, {\"x\": 2, \"y\": 40}, {\"x\": 3, \"y\": 15}, {\"x\": 4, \"y\": 100}, {\"x\": 5, \"y\": 100}, {\"x\": 6, \"y\": 210}, {\"x\": 7, \"y\": 280}, {\"x\": 8, \"y\": 160}, {\"x\": 9, \"y\": 45}, {\"x\": 10, \"y\": 300}, {\"x\": 11, \"y\": 330}, {\"x\": 12, \"y\": 480}, {\"x\": 13, \"y\": 195}, {\"x\": 14, \"y\": 420}, {\"x\": 15, \"y\": 525}, {\"x\": 16, \"y\": 560}, {\"x\": 17, \"y\": 680}, {\"x\": 18, \"y\": 180}, {\"x\": 19, \"y\": 285}, {\"x\": 20, \"y\": 600}, {\"x\": 21, \"y\": 840}, {\"x\": 22, \"y\": 660}, {\"x\": 23, \"y\": 1035}, {\"x\": 24, \"y\": 720}, {\"x\": 25, \"y\": 375}, {\"x\": 26, \"y\": 520}, {\"x\": 27, \"y\": 270}, {\"x\": 28, \"y\": 420}, {\"x\": 29, \"y\": 1015}, {\"x\": 30, \"y\": 450}, {\"x\": 31, \"y\": 155}, {\"x\": 32, \"y\": 800}, {\"x\": 33, \"y\": 165}, {\"x\": 34, \"y\": 1530}, {\"x\": 35, \"y\": 1400}, {\"x\": 36, \"y\": 540}, {\"x\": 37, \"y\": 1850}, {\"x\": 38, \"y\": 950}, {\"x\": 39, \"y\": 585}, {\"x\": 40, \"y\": 800}, {\"x\": 41, \"y\": 615}, {\"x\": 42, \"y\": 210}, {\"x\": 43, \"y\": 430}, {\"x\": 44, \"y\": 660}, {\"x\": 45, \"y\": 450}, {\"x\": 46, \"y\": 920}, {\"x\": 47, \"y\": 470}, {\"x\": 48, \"y\": 1920}, {\"x\": 49, \"y\": 1470}], \"yAxis\": \"1\"}];\n",
       "\n",
       "    nv.addGraph(function() {\n",
       "        var chart = nv.models.stackedAreaChart().useInteractiveGuideline(true);\n",
       "\n",
       "        chart.margin({top: 30, right: 60, bottom: 20, left: 60});\n",
       "\n",
       "        var datum = data_stackedareachart;\n",
       "\n",
       "\n",
       "\n",
       "\n",
       "\n",
       "            chart.xAxis\n",
       "                .tickFormat(d3.format(',.2f'));\n",
       "            chart.yAxis\n",
       "                .tickFormat(d3.format(',.2f'));\n",
       "\n",
       "\n",
       "      chart.showLegend(true);\n",
       "\n",
       "\n",
       "\n",
       "        \n",
       "\n",
       "\n",
       "        d3.select('#stackedareachart svg')\n",
       "            .datum(datum)\n",
       "            .transition().duration(500)\n",
       "            .attr('width', 500)\n",
       "            .attr('height', 450)\n",
       "            .call(chart);\n",
       "\n",
       "\n",
       "    });\n",
       "\n",
       "\n",
       "\n",
       "    </script>\n",
       "\n",
       "    </body>\n",
       "</html>"
      ],
      "text/plain": [
       "<nvd3.stackedAreaChart.stackedAreaChart at 0x104ad22b0>"
      ]
     },
     "execution_count": 2,
     "metadata": {},
     "output_type": "execute_result"
    }
   ],
   "source": [
    "type = 'stackedAreaChart'\n",
    "chart2 = nvd3.stackedAreaChart(name=type,height=450,width=500, \n",
    "                               use_interactive_guideline=True)\n",
    "nb_element = 50\n",
    "xdata = range(nb_element)\n",
    "ydata = [i * random.randint(1, 10) for i in range(nb_element)]\n",
    "ydata2 = [x * 2 for x in ydata]\n",
    "ydata3 = [x * 5 for x in ydata]\n",
    "chart2.add_serie(name=\"serie 1\", y=ydata, x=xdata)\n",
    "chart2.add_serie(name=\"serie 2\", y=ydata2, x=xdata)\n",
    "chart2.add_serie(name=\"serie 3\", y=ydata3, x=xdata)\n",
    "chart2"
   ]
  },
  {
   "cell_type": "code",
   "execution_count": 3,
   "metadata": {
    "collapsed": false
   },
   "outputs": [
    {
     "data": {
      "text/html": [
       "<!DOCTYPE html>\n",
       "<html lang=\"en\">\n",
       "    <head>\n",
       "        <meta charset=\"utf-8\" />\n",
       "        <link href=\"https://cdnjs.cloudflare.com/ajax/libs/nvd3/1.7.0/nv.d3.min.css\" rel=\"stylesheet\" />\n",
       "        <script src=\"https://cdnjs.cloudflare.com/ajax/libs/d3/3.5.5/d3.min.js\"></script>\n",
       "        <script src=\"https://cdnjs.cloudflare.com/ajax/libs/nvd3/1.7.0/nv.d3.min.js\"></script>\n",
       "    </head>\n",
       "    <body>\n",
       "        \n",
       "    <div id=\"scatterchart_1\"><svg style=\"width:600px;height:300px;\"></svg></div>\n",
       "\n",
       "\n",
       "    <script>\n",
       "\n",
       "\n",
       "\n",
       "            data_scatterchart_1=[{\"values\": [{\"y\": 0, \"x\": 5, \"shape\": \"circle\", \"size\": \"1\"}, {\"y\": 1, \"x\": 5, \"shape\": \"circle\", \"size\": \"1\"}, {\"y\": 20, \"x\": 4, \"shape\": \"circle\", \"size\": \"1\"}, {\"y\": 18, \"x\": 12, \"shape\": \"circle\", \"size\": \"1\"}, {\"y\": 8, \"x\": 9, \"shape\": \"circle\", \"size\": \"1\"}, {\"y\": 50, \"x\": 14, \"shape\": \"circle\", \"size\": \"1\"}, {\"y\": 48, \"x\": 9, \"shape\": \"circle\", \"size\": \"1\"}, {\"y\": 56, \"x\": 12, \"shape\": \"circle\", \"size\": \"1\"}, {\"y\": 64, \"x\": 12, \"shape\": \"circle\", \"size\": \"1\"}, {\"y\": 9, \"x\": 12, \"shape\": \"circle\", \"size\": \"1\"}, {\"y\": 40, \"x\": 19, \"shape\": \"circle\", \"size\": \"1\"}, {\"y\": 99, \"x\": 19, \"shape\": \"circle\", \"size\": \"1\"}, {\"y\": 24, \"x\": 18, \"shape\": \"circle\", \"size\": \"1\"}, {\"y\": 91, \"x\": 18, \"shape\": \"circle\", \"size\": \"1\"}, {\"y\": 140, \"x\": 19, \"shape\": \"circle\", \"size\": \"1\"}, {\"y\": 105, \"x\": 20, \"shape\": \"circle\", \"size\": \"1\"}, {\"y\": 144, \"x\": 20, \"shape\": \"circle\", \"size\": \"1\"}, {\"y\": 119, \"x\": 18, \"shape\": \"circle\", \"size\": \"1\"}, {\"y\": 90, \"x\": 27, \"shape\": \"circle\", \"size\": \"1\"}, {\"y\": 95, \"x\": 20, \"shape\": \"circle\", \"size\": \"1\"}, {\"y\": 80, \"x\": 22, \"shape\": \"circle\", \"size\": \"1\"}, {\"y\": 84, \"x\": 29, \"shape\": \"circle\", \"size\": \"1\"}, {\"y\": 110, \"x\": 30, \"shape\": \"circle\", \"size\": \"1\"}, {\"y\": 92, \"x\": 24, \"shape\": \"circle\", \"size\": \"1\"}, {\"y\": 216, \"x\": 31, \"shape\": \"circle\", \"size\": \"1\"}, {\"y\": 100, \"x\": 29, \"shape\": \"circle\", \"size\": \"1\"}, {\"y\": 26, \"x\": 27, \"shape\": \"circle\", \"size\": \"1\"}, {\"y\": 54, \"x\": 33, \"shape\": \"circle\", \"size\": \"1\"}, {\"y\": 224, \"x\": 35, \"shape\": \"circle\", \"size\": \"1\"}, {\"y\": 58, \"x\": 34, \"shape\": \"circle\", \"size\": \"1\"}, {\"y\": 210, \"x\": 32, \"shape\": \"circle\", \"size\": \"1\"}, {\"y\": 93, \"x\": 36, \"shape\": \"circle\", \"size\": \"1\"}, {\"y\": 160, \"x\": 41, \"shape\": \"circle\", \"size\": \"1\"}, {\"y\": 198, \"x\": 37, \"shape\": \"circle\", \"size\": \"1\"}, {\"y\": 238, \"x\": 44, \"shape\": \"circle\", \"size\": \"1\"}, {\"y\": 35, \"x\": 45, \"shape\": \"circle\", \"size\": \"1\"}, {\"y\": 288, \"x\": 41, \"shape\": \"circle\", \"size\": \"1\"}, {\"y\": 333, \"x\": 44, \"shape\": \"circle\", \"size\": \"1\"}, {\"y\": 38, \"x\": 40, \"shape\": \"circle\", \"size\": \"1\"}, {\"y\": 351, \"x\": 41, \"shape\": \"circle\", \"size\": \"1\"}, {\"y\": 320, \"x\": 49, \"shape\": \"circle\", \"size\": \"1\"}, {\"y\": 328, \"x\": 43, \"shape\": \"circle\", \"size\": \"1\"}, {\"y\": 84, \"x\": 48, \"shape\": \"circle\", \"size\": \"1\"}, {\"y\": 43, \"x\": 52, \"shape\": \"circle\", \"size\": \"1\"}, {\"y\": 264, \"x\": 52, \"shape\": \"circle\", \"size\": \"1\"}, {\"y\": 225, \"x\": 47, \"shape\": \"circle\", \"size\": \"1\"}, {\"y\": 92, \"x\": 47, \"shape\": \"circle\", \"size\": \"1\"}, {\"y\": 94, \"x\": 52, \"shape\": \"circle\", \"size\": \"1\"}, {\"y\": 48, \"x\": 52, \"shape\": \"circle\", \"size\": \"1\"}, {\"y\": 343, \"x\": 50, \"shape\": \"circle\", \"size\": \"1\"}], \"yAxis\": \"1\", \"key\": \"serie 1\"}, {\"values\": [{\"y\": 0, \"x\": 5, \"shape\": \"cross\", \"size\": \"10\"}, {\"y\": 2, \"x\": 5, \"shape\": \"cross\", \"size\": \"10\"}, {\"y\": 40, \"x\": 4, \"shape\": \"cross\", \"size\": \"10\"}, {\"y\": 36, \"x\": 12, \"shape\": \"cross\", \"size\": \"10\"}, {\"y\": 16, \"x\": 9, \"shape\": \"cross\", \"size\": \"10\"}, {\"y\": 100, \"x\": 14, \"shape\": \"cross\", \"size\": \"10\"}, {\"y\": 96, \"x\": 9, \"shape\": \"cross\", \"size\": \"10\"}, {\"y\": 112, \"x\": 12, \"shape\": \"cross\", \"size\": \"10\"}, {\"y\": 128, \"x\": 12, \"shape\": \"cross\", \"size\": \"10\"}, {\"y\": 18, \"x\": 12, \"shape\": \"cross\", \"size\": \"10\"}, {\"y\": 80, \"x\": 19, \"shape\": \"cross\", \"size\": \"10\"}, {\"y\": 198, \"x\": 19, \"shape\": \"cross\", \"size\": \"10\"}, {\"y\": 48, \"x\": 18, \"shape\": \"cross\", \"size\": \"10\"}, {\"y\": 182, \"x\": 18, \"shape\": \"cross\", \"size\": \"10\"}, {\"y\": 280, \"x\": 19, \"shape\": \"cross\", \"size\": \"10\"}, {\"y\": 210, \"x\": 20, \"shape\": \"cross\", \"size\": \"10\"}, {\"y\": 288, \"x\": 20, \"shape\": \"cross\", \"size\": \"10\"}, {\"y\": 238, \"x\": 18, \"shape\": \"cross\", \"size\": \"10\"}, {\"y\": 180, \"x\": 27, \"shape\": \"cross\", \"size\": \"10\"}, {\"y\": 190, \"x\": 20, \"shape\": \"cross\", \"size\": \"10\"}, {\"y\": 160, \"x\": 22, \"shape\": \"cross\", \"size\": \"10\"}, {\"y\": 168, \"x\": 29, \"shape\": \"cross\", \"size\": \"10\"}, {\"y\": 220, \"x\": 30, \"shape\": \"cross\", \"size\": \"10\"}, {\"y\": 184, \"x\": 24, \"shape\": \"cross\", \"size\": \"10\"}, {\"y\": 432, \"x\": 31, \"shape\": \"cross\", \"size\": \"10\"}, {\"y\": 200, \"x\": 29, \"shape\": \"cross\", \"size\": \"10\"}, {\"y\": 52, \"x\": 27, \"shape\": \"cross\", \"size\": \"10\"}, {\"y\": 108, \"x\": 33, \"shape\": \"cross\", \"size\": \"10\"}, {\"y\": 448, \"x\": 35, \"shape\": \"cross\", \"size\": \"10\"}, {\"y\": 116, \"x\": 34, \"shape\": \"cross\", \"size\": \"10\"}, {\"y\": 420, \"x\": 32, \"shape\": \"cross\", \"size\": \"10\"}, {\"y\": 186, \"x\": 36, \"shape\": \"cross\", \"size\": \"10\"}, {\"y\": 320, \"x\": 41, \"shape\": \"cross\", \"size\": \"10\"}, {\"y\": 396, \"x\": 37, \"shape\": \"cross\", \"size\": \"10\"}, {\"y\": 476, \"x\": 44, \"shape\": \"cross\", \"size\": \"10\"}, {\"y\": 70, \"x\": 45, \"shape\": \"cross\", \"size\": \"10\"}, {\"y\": 576, \"x\": 41, \"shape\": \"cross\", \"size\": \"10\"}, {\"y\": 666, \"x\": 44, \"shape\": \"cross\", \"size\": \"10\"}, {\"y\": 76, \"x\": 40, \"shape\": \"cross\", \"size\": \"10\"}, {\"y\": 702, \"x\": 41, \"shape\": \"cross\", \"size\": \"10\"}, {\"y\": 640, \"x\": 49, \"shape\": \"cross\", \"size\": \"10\"}, {\"y\": 656, \"x\": 43, \"shape\": \"cross\", \"size\": \"10\"}, {\"y\": 168, \"x\": 48, \"shape\": \"cross\", \"size\": \"10\"}, {\"y\": 86, \"x\": 52, \"shape\": \"cross\", \"size\": \"10\"}, {\"y\": 528, \"x\": 52, \"shape\": \"cross\", \"size\": \"10\"}, {\"y\": 450, \"x\": 47, \"shape\": \"cross\", \"size\": \"10\"}, {\"y\": 184, \"x\": 47, \"shape\": \"cross\", \"size\": \"10\"}, {\"y\": 188, \"x\": 52, \"shape\": \"cross\", \"size\": \"10\"}, {\"y\": 96, \"x\": 52, \"shape\": \"cross\", \"size\": \"10\"}, {\"y\": 686, \"x\": 50, \"shape\": \"cross\", \"size\": \"10\"}], \"yAxis\": \"1\", \"key\": \"serie 2\"}, {\"values\": [{\"y\": 0, \"x\": 5, \"shape\": \"triangle-up\", \"size\": \"100\"}, {\"y\": 5, \"x\": 5, \"shape\": \"triangle-up\", \"size\": \"100\"}, {\"y\": 100, \"x\": 4, \"shape\": \"triangle-up\", \"size\": \"100\"}, {\"y\": 90, \"x\": 12, \"shape\": \"triangle-up\", \"size\": \"100\"}, {\"y\": 40, \"x\": 9, \"shape\": \"triangle-up\", \"size\": \"100\"}, {\"y\": 250, \"x\": 14, \"shape\": \"triangle-up\", \"size\": \"100\"}, {\"y\": 240, \"x\": 9, \"shape\": \"triangle-up\", \"size\": \"100\"}, {\"y\": 280, \"x\": 12, \"shape\": \"triangle-up\", \"size\": \"100\"}, {\"y\": 320, \"x\": 12, \"shape\": \"triangle-up\", \"size\": \"100\"}, {\"y\": 45, \"x\": 12, \"shape\": \"triangle-up\", \"size\": \"100\"}, {\"y\": 200, \"x\": 19, \"shape\": \"triangle-up\", \"size\": \"100\"}, {\"y\": 495, \"x\": 19, \"shape\": \"triangle-up\", \"size\": \"100\"}, {\"y\": 120, \"x\": 18, \"shape\": \"triangle-up\", \"size\": \"100\"}, {\"y\": 455, \"x\": 18, \"shape\": \"triangle-up\", \"size\": \"100\"}, {\"y\": 700, \"x\": 19, \"shape\": \"triangle-up\", \"size\": \"100\"}, {\"y\": 525, \"x\": 20, \"shape\": \"triangle-up\", \"size\": \"100\"}, {\"y\": 720, \"x\": 20, \"shape\": \"triangle-up\", \"size\": \"100\"}, {\"y\": 595, \"x\": 18, \"shape\": \"triangle-up\", \"size\": \"100\"}, {\"y\": 450, \"x\": 27, \"shape\": \"triangle-up\", \"size\": \"100\"}, {\"y\": 475, \"x\": 20, \"shape\": \"triangle-up\", \"size\": \"100\"}, {\"y\": 400, \"x\": 22, \"shape\": \"triangle-up\", \"size\": \"100\"}, {\"y\": 420, \"x\": 29, \"shape\": \"triangle-up\", \"size\": \"100\"}, {\"y\": 550, \"x\": 30, \"shape\": \"triangle-up\", \"size\": \"100\"}, {\"y\": 460, \"x\": 24, \"shape\": \"triangle-up\", \"size\": \"100\"}, {\"y\": 1080, \"x\": 31, \"shape\": \"triangle-up\", \"size\": \"100\"}, {\"y\": 500, \"x\": 29, \"shape\": \"triangle-up\", \"size\": \"100\"}, {\"y\": 130, \"x\": 27, \"shape\": \"triangle-up\", \"size\": \"100\"}, {\"y\": 270, \"x\": 33, \"shape\": \"triangle-up\", \"size\": \"100\"}, {\"y\": 1120, \"x\": 35, \"shape\": \"triangle-up\", \"size\": \"100\"}, {\"y\": 290, \"x\": 34, \"shape\": \"triangle-up\", \"size\": \"100\"}, {\"y\": 1050, \"x\": 32, \"shape\": \"triangle-up\", \"size\": \"100\"}, {\"y\": 465, \"x\": 36, \"shape\": \"triangle-up\", \"size\": \"100\"}, {\"y\": 800, \"x\": 41, \"shape\": \"triangle-up\", \"size\": \"100\"}, {\"y\": 990, \"x\": 37, \"shape\": \"triangle-up\", \"size\": \"100\"}, {\"y\": 1190, \"x\": 44, \"shape\": \"triangle-up\", \"size\": \"100\"}, {\"y\": 175, \"x\": 45, \"shape\": \"triangle-up\", \"size\": \"100\"}, {\"y\": 1440, \"x\": 41, \"shape\": \"triangle-up\", \"size\": \"100\"}, {\"y\": 1665, \"x\": 44, \"shape\": \"triangle-up\", \"size\": \"100\"}, {\"y\": 190, \"x\": 40, \"shape\": \"triangle-up\", \"size\": \"100\"}, {\"y\": 1755, \"x\": 41, \"shape\": \"triangle-up\", \"size\": \"100\"}, {\"y\": 1600, \"x\": 49, \"shape\": \"triangle-up\", \"size\": \"100\"}, {\"y\": 1640, \"x\": 43, \"shape\": \"triangle-up\", \"size\": \"100\"}, {\"y\": 420, \"x\": 48, \"shape\": \"triangle-up\", \"size\": \"100\"}, {\"y\": 215, \"x\": 52, \"shape\": \"triangle-up\", \"size\": \"100\"}, {\"y\": 1320, \"x\": 52, \"shape\": \"triangle-up\", \"size\": \"100\"}, {\"y\": 1125, \"x\": 47, \"shape\": \"triangle-up\", \"size\": \"100\"}, {\"y\": 460, \"x\": 47, \"shape\": \"triangle-up\", \"size\": \"100\"}, {\"y\": 470, \"x\": 52, \"shape\": \"triangle-up\", \"size\": \"100\"}, {\"y\": 240, \"x\": 52, \"shape\": \"triangle-up\", \"size\": \"100\"}, {\"y\": 1715, \"x\": 50, \"shape\": \"triangle-up\", \"size\": \"100\"}], \"yAxis\": \"1\", \"key\": \"serie 3\"}];\n",
       "\n",
       "\n",
       "        nv.addGraph(function() {\n",
       "        var chart = nv.models.scatterChart();\n",
       "\n",
       "        chart.margin({top: 30, right: 60, bottom: 20, left: 60});\n",
       "\n",
       "        var datum = data_scatterchart_1;\n",
       "\n",
       "\n",
       "\n",
       "                chart.xAxis\n",
       "                .tickFormat(d3.format(',.02f'));\n",
       "            chart.yAxis\n",
       "                .tickFormat(d3.format(',.02f'));\n",
       "\n",
       "\n",
       "\n",
       "          chart.showLegend(true);\n",
       "\n",
       "\n",
       "    \n",
       "\n",
       "        \n",
       "\n",
       "\n",
       "\n",
       "\n",
       "    chart\n",
       "        .showDistX(true)\n",
       "        .showDistY(true)\n",
       "        .color(d3.scale.category10().range());\n",
       "\n",
       "            d3.select('#scatterchart_1 svg')\n",
       "            .datum(datum)\n",
       "            .transition().duration(500)\n",
       "            .attr('width', 600)\n",
       "            .attr('height', 300)\n",
       "            .call(chart);\n",
       "\n",
       "\n",
       "        });\n",
       "\n",
       "\n",
       "\n",
       "    </script>\n",
       "\n",
       "    </body>\n",
       "</html>"
      ],
      "text/plain": [
       "<nvd3.scatterChart.scatterChart at 0x104ac4828>"
      ]
     },
     "execution_count": 3,
     "metadata": {},
     "output_type": "execute_result"
    }
   ],
   "source": [
    "chart = nvd3.scatterChart(name='scatterChart_1', width=600, height=300, x_is_date=False)\n",
    "nb_element = 50\n",
    "xdata = [i + random.randint(1, 10) for i in range(nb_element)]\n",
    "ydata = [i * random.randint(1, 10) for i in range(nb_element)]\n",
    "ydata2 = [x * 2 for x in ydata]\n",
    "ydata3 = [x * 5 for x in ydata]\n",
    "\n",
    "kwargs1 = {'shape': 'circle', 'size': '1'}\n",
    "kwargs2 = {'shape': 'cross', 'size': '10'}\n",
    "kwargs3 = {'shape': 'triangle-up', 'size': '100'}\n",
    "\n",
    "extra_serie = {\"tooltip\": {\"y_start\": \"\", \"y_end\": \" calls\"}}\n",
    "chart.add_serie(name=\"serie 1\", y=ydata, x=xdata, extra=extra_serie, **kwargs1)\n",
    "chart.add_serie(name=\"serie 2\", y=ydata2, x=xdata, extra=extra_serie, **kwargs2)\n",
    "chart.add_serie(name=\"serie 3\", y=ydata3, x=xdata, extra=extra_serie, **kwargs3)\n",
    "chart"
   ]
  },
  {
   "cell_type": "code",
   "execution_count": 4,
   "metadata": {
    "collapsed": false
   },
   "outputs": [
    {
     "data": {
      "text/html": [
       "<!DOCTYPE html>\n",
       "<html lang=\"en\">\n",
       "    <head>\n",
       "        <meta charset=\"utf-8\" />\n",
       "        <link href=\"https://cdnjs.cloudflare.com/ajax/libs/nvd3/1.7.0/nv.d3.min.css\" rel=\"stylesheet\" />\n",
       "        <script src=\"https://cdnjs.cloudflare.com/ajax/libs/d3/3.5.5/d3.min.js\"></script>\n",
       "        <script src=\"https://cdnjs.cloudflare.com/ajax/libs/nvd3/1.7.0/nv.d3.min.js\"></script>\n",
       "    </head>\n",
       "    <body>\n",
       "        \n",
       "    \n",
       "\n",
       "<h2>pieChart</h2>\n",
       "\n",
       "<div id=\"piechart\"><svg style=\"width:450px;height:450px;\"></svg></div>\n",
       "\n",
       "\n",
       "    <script>\n",
       "\n",
       "\n",
       "\n",
       "    data_piechart=[{\"values\": [{\"value\": 3, \"label\": \"Orange\"}, {\"value\": 4, \"label\": \"Banana\"}, {\"value\": 0, \"label\": \"Pear\"}, {\"value\": 1, \"label\": \"Kiwi\"}, {\"value\": 5, \"label\": \"Apple\"}, {\"value\": 7, \"label\": \"Strawberry\"}, {\"value\": 3, \"label\": \"Pineapple\"}], \"key\": \"Serie 1\"}];\n",
       "\n",
       "    nv.addGraph(function() {\n",
       "        var chart = nv.models.pieChart();\n",
       "        chart.margin({top: 30, right: 60, bottom: 20, left: 60});\n",
       "        var datum = data_piechart[0].values;\n",
       "\n",
       "        chart.color(d3.scale.category20c().range());\n",
       "\n",
       "    chart.tooltipContent(function(key, y, e, graph) {\n",
       "          var x = String(key);\n",
       "              var y =  String(y)  + ' cal';\n",
       "\n",
       "              tooltip_str = '<center><b>'+x+'</b></center>' + y;\n",
       "              return tooltip_str;\n",
       "              });\n",
       "        chart.showLabels(true);\n",
       "\n",
       "            chart.donut(false);\n",
       "\n",
       "    chart.showLegend(true);\n",
       "\n",
       "\n",
       "\n",
       "\n",
       "        chart\n",
       "            .x(function(d) { return d.label })\n",
       "            .y(function(d) { return d.value });\n",
       "\n",
       "        chart.width(450);\n",
       "\n",
       "        chart.height(450);\n",
       "\n",
       "\n",
       "            d3.select('#piechart svg')\n",
       "            .datum(datum)\n",
       "            .transition().duration(500)\n",
       "            .attr('width', 450)\n",
       "            .attr('height', 450)\n",
       "            .call(chart);\n",
       "\n",
       "\n",
       "        });\n",
       "\n",
       "\n",
       "\n",
       "    </script>\n",
       "\n",
       "    </body>\n",
       "</html>"
      ],
      "text/plain": [
       "<nvd3.pieChart.pieChart at 0x104ac0cc0>"
      ]
     },
     "execution_count": 4,
     "metadata": {},
     "output_type": "execute_result"
    }
   ],
   "source": [
    "\n",
    "type = 'pieChart'\n",
    "chart1 = nvd3.pieChart(name=type, color_category='category20c', height=450, width=450)\n",
    "chart1.set_containerheader(\"\\n\\n<h2>\" + type + \"</h2>\\n\\n\")\n",
    "\n",
    "#Create the keys\n",
    "xdata = [\"Orange\", \"Banana\", \"Pear\", \"Kiwi\", \"Apple\", \"Strawberry\", \"Pineapple\"]\n",
    "ydata = [3, 4, 0, 1, 5, 7, 3]\n",
    "\n",
    "#Add the serie\n",
    "extra_serie = {\"tooltip\": {\"y_start\": \"\", \"y_end\": \" cal\"}}\n",
    "chart1.add_serie(y=ydata, x=xdata, extra=extra_serie)\n",
    "chart1"
   ]
  },
  {
   "cell_type": "code",
   "execution_count": null,
   "metadata": {
    "collapsed": true
   },
   "outputs": [],
   "source": []
  }
 ],
 "metadata": {
  "anaconda-cloud": {},
  "kernelspec": {
   "display_name": "Python [conda root]",
   "language": "python",
   "name": "conda-root-py"
  },
  "language_info": {
   "codemirror_mode": {
    "name": "ipython",
    "version": 3
   },
   "file_extension": ".py",
   "mimetype": "text/x-python",
   "name": "python",
   "nbconvert_exporter": "python",
   "pygments_lexer": "ipython3",
   "version": "3.5.2"
  }
 },
 "nbformat": 4,
 "nbformat_minor": 1
}
