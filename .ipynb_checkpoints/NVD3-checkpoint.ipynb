{
 "cells": [
  {
   "cell_type": "code",
   "execution_count": 1,
   "metadata": {
    "collapsed": false
   },
   "outputs": [
    {
     "name": "stdout",
     "output_type": "stream",
     "text": [
      "loaded nvd3 IPython extension\n",
      "run nvd3.ipynb.initialize_javascript() to set up the notebook\n",
      "help(nvd3.ipynb.initialize_javascript) for options\n"
     ]
    },
    {
     "data": {
      "text/html": [
       "<link media=\"all\" href=\"https://cdnjs.cloudflare.com/ajax/libs/nvd3/1.7.0/nv.d3.min.css\" type=\"text/css\"\n",
       "                        rel=\"stylesheet\"/>"
      ],
      "text/plain": [
       "<IPython.core.display.HTML object>"
      ]
     },
     "metadata": {},
     "output_type": "display_data"
    },
    {
     "data": {
      "application/javascript": [
       "$.getScript(\"https://cdnjs.cloudflare.com/ajax/libs/nvd3/1.7.0/nv.d3.min.js\")"
      ],
      "text/plain": [
       "<IPython.core.display.Javascript object>"
      ]
     },
     "metadata": {},
     "output_type": "display_data"
    },
    {
     "data": {
      "application/javascript": [
       "$.getScript(\"https://cdnjs.cloudflare.com/ajax/libs/d3/3.5.5/d3.min.js\", function() {\n",
       "                              $.getScript(\"https://cdnjs.cloudflare.com/ajax/libs/nvd3/1.7.0/nv.d3.min.js\", function() {})});"
      ],
      "text/plain": [
       "<IPython.core.display.Javascript object>"
      ]
     },
     "metadata": {},
     "output_type": "display_data"
    },
    {
     "data": {
      "text/html": [
       "<script src=\"https://cdnjs.cloudflare.com/ajax/libs/d3/3.5.5/d3.min.js\"></script>"
      ],
      "text/plain": [
       "<IPython.core.display.HTML object>"
      ]
     },
     "metadata": {},
     "output_type": "display_data"
    },
    {
     "data": {
      "text/html": [
       "<script src=\"https://cdnjs.cloudflare.com/ajax/libs/nvd3/1.7.0/nv.d3.min.js\"></script>"
      ],
      "text/plain": [
       "<IPython.core.display.HTML object>"
      ]
     },
     "metadata": {},
     "output_type": "display_data"
    }
   ],
   "source": [
    "import random\n",
    "from IPython import display as d\n",
    "import nvd3\n",
    "nvd3.ipynb.initialize_javascript(use_remote=True)"
   ]
  },
  {
   "cell_type": "code",
   "execution_count": 2,
   "metadata": {
    "collapsed": false
   },
   "outputs": [
    {
     "data": {
      "text/html": [
       "<!DOCTYPE html>\n",
       "<html lang=\"en\">\n",
       "    <head>\n",
       "        <meta charset=\"utf-8\" />\n",
       "        <link href=\"https://cdnjs.cloudflare.com/ajax/libs/nvd3/1.7.0/nv.d3.min.css\" rel=\"stylesheet\" />\n",
       "        <script src=\"https://cdnjs.cloudflare.com/ajax/libs/d3/3.5.5/d3.min.js\"></script>\n",
       "        <script src=\"https://cdnjs.cloudflare.com/ajax/libs/nvd3/1.7.0/nv.d3.min.js\"></script>\n",
       "    </head>\n",
       "    <body>\n",
       "        \n",
       "    <div id=\"stackedareachart\"><svg style=\"width:500px;height:450px;\"></svg></div>\n",
       "\n",
       "\n",
       "    <script>\n",
       "\n",
       "\n",
       "            data_stackedareachart=[{\"values\": [{\"y\": 0, \"x\": 0}, {\"y\": 1, \"x\": 1}, {\"y\": 10, \"x\": 2}, {\"y\": 30, \"x\": 3}, {\"y\": 12, \"x\": 4}, {\"y\": 40, \"x\": 5}, {\"y\": 54, \"x\": 6}, {\"y\": 28, \"x\": 7}, {\"y\": 56, \"x\": 8}, {\"y\": 27, \"x\": 9}, {\"y\": 90, \"x\": 10}, {\"y\": 110, \"x\": 11}, {\"y\": 36, \"x\": 12}, {\"y\": 13, \"x\": 13}, {\"y\": 70, \"x\": 14}, {\"y\": 150, \"x\": 15}, {\"y\": 128, \"x\": 16}, {\"y\": 85, \"x\": 17}, {\"y\": 144, \"x\": 18}, {\"y\": 133, \"x\": 19}, {\"y\": 180, \"x\": 20}, {\"y\": 84, \"x\": 21}, {\"y\": 154, \"x\": 22}, {\"y\": 115, \"x\": 23}, {\"y\": 72, \"x\": 24}, {\"y\": 200, \"x\": 25}, {\"y\": 52, \"x\": 26}, {\"y\": 243, \"x\": 27}, {\"y\": 84, \"x\": 28}, {\"y\": 174, \"x\": 29}, {\"y\": 60, \"x\": 30}, {\"y\": 155, \"x\": 31}, {\"y\": 128, \"x\": 32}, {\"y\": 99, \"x\": 33}, {\"y\": 204, \"x\": 34}, {\"y\": 175, \"x\": 35}, {\"y\": 108, \"x\": 36}, {\"y\": 185, \"x\": 37}, {\"y\": 114, \"x\": 38}, {\"y\": 234, \"x\": 39}, {\"y\": 200, \"x\": 40}, {\"y\": 205, \"x\": 41}, {\"y\": 84, \"x\": 42}, {\"y\": 172, \"x\": 43}, {\"y\": 440, \"x\": 44}, {\"y\": 315, \"x\": 45}, {\"y\": 414, \"x\": 46}, {\"y\": 235, \"x\": 47}, {\"y\": 432, \"x\": 48}, {\"y\": 392, \"x\": 49}], \"key\": \"serie 1\", \"yAxis\": \"1\"}, {\"values\": [{\"y\": 0, \"x\": 0}, {\"y\": 2, \"x\": 1}, {\"y\": 20, \"x\": 2}, {\"y\": 60, \"x\": 3}, {\"y\": 24, \"x\": 4}, {\"y\": 80, \"x\": 5}, {\"y\": 108, \"x\": 6}, {\"y\": 56, \"x\": 7}, {\"y\": 112, \"x\": 8}, {\"y\": 54, \"x\": 9}, {\"y\": 180, \"x\": 10}, {\"y\": 220, \"x\": 11}, {\"y\": 72, \"x\": 12}, {\"y\": 26, \"x\": 13}, {\"y\": 140, \"x\": 14}, {\"y\": 300, \"x\": 15}, {\"y\": 256, \"x\": 16}, {\"y\": 170, \"x\": 17}, {\"y\": 288, \"x\": 18}, {\"y\": 266, \"x\": 19}, {\"y\": 360, \"x\": 20}, {\"y\": 168, \"x\": 21}, {\"y\": 308, \"x\": 22}, {\"y\": 230, \"x\": 23}, {\"y\": 144, \"x\": 24}, {\"y\": 400, \"x\": 25}, {\"y\": 104, \"x\": 26}, {\"y\": 486, \"x\": 27}, {\"y\": 168, \"x\": 28}, {\"y\": 348, \"x\": 29}, {\"y\": 120, \"x\": 30}, {\"y\": 310, \"x\": 31}, {\"y\": 256, \"x\": 32}, {\"y\": 198, \"x\": 33}, {\"y\": 408, \"x\": 34}, {\"y\": 350, \"x\": 35}, {\"y\": 216, \"x\": 36}, {\"y\": 370, \"x\": 37}, {\"y\": 228, \"x\": 38}, {\"y\": 468, \"x\": 39}, {\"y\": 400, \"x\": 40}, {\"y\": 410, \"x\": 41}, {\"y\": 168, \"x\": 42}, {\"y\": 344, \"x\": 43}, {\"y\": 880, \"x\": 44}, {\"y\": 630, \"x\": 45}, {\"y\": 828, \"x\": 46}, {\"y\": 470, \"x\": 47}, {\"y\": 864, \"x\": 48}, {\"y\": 784, \"x\": 49}], \"key\": \"serie 2\", \"yAxis\": \"1\"}, {\"values\": [{\"y\": 0, \"x\": 0}, {\"y\": 5, \"x\": 1}, {\"y\": 50, \"x\": 2}, {\"y\": 150, \"x\": 3}, {\"y\": 60, \"x\": 4}, {\"y\": 200, \"x\": 5}, {\"y\": 270, \"x\": 6}, {\"y\": 140, \"x\": 7}, {\"y\": 280, \"x\": 8}, {\"y\": 135, \"x\": 9}, {\"y\": 450, \"x\": 10}, {\"y\": 550, \"x\": 11}, {\"y\": 180, \"x\": 12}, {\"y\": 65, \"x\": 13}, {\"y\": 350, \"x\": 14}, {\"y\": 750, \"x\": 15}, {\"y\": 640, \"x\": 16}, {\"y\": 425, \"x\": 17}, {\"y\": 720, \"x\": 18}, {\"y\": 665, \"x\": 19}, {\"y\": 900, \"x\": 20}, {\"y\": 420, \"x\": 21}, {\"y\": 770, \"x\": 22}, {\"y\": 575, \"x\": 23}, {\"y\": 360, \"x\": 24}, {\"y\": 1000, \"x\": 25}, {\"y\": 260, \"x\": 26}, {\"y\": 1215, \"x\": 27}, {\"y\": 420, \"x\": 28}, {\"y\": 870, \"x\": 29}, {\"y\": 300, \"x\": 30}, {\"y\": 775, \"x\": 31}, {\"y\": 640, \"x\": 32}, {\"y\": 495, \"x\": 33}, {\"y\": 1020, \"x\": 34}, {\"y\": 875, \"x\": 35}, {\"y\": 540, \"x\": 36}, {\"y\": 925, \"x\": 37}, {\"y\": 570, \"x\": 38}, {\"y\": 1170, \"x\": 39}, {\"y\": 1000, \"x\": 40}, {\"y\": 1025, \"x\": 41}, {\"y\": 420, \"x\": 42}, {\"y\": 860, \"x\": 43}, {\"y\": 2200, \"x\": 44}, {\"y\": 1575, \"x\": 45}, {\"y\": 2070, \"x\": 46}, {\"y\": 1175, \"x\": 47}, {\"y\": 2160, \"x\": 48}, {\"y\": 1960, \"x\": 49}], \"key\": \"serie 3\", \"yAxis\": \"1\"}];\n",
       "\n",
       "    nv.addGraph(function() {\n",
       "        var chart = nv.models.stackedAreaChart().useInteractiveGuideline(true);\n",
       "\n",
       "        chart.margin({top: 30, right: 60, bottom: 20, left: 60});\n",
       "\n",
       "        var datum = data_stackedareachart;\n",
       "\n",
       "\n",
       "\n",
       "\n",
       "\n",
       "            chart.xAxis\n",
       "                .tickFormat(d3.format(',.2f'));\n",
       "            chart.yAxis\n",
       "                .tickFormat(d3.format(',.2f'));\n",
       "\n",
       "\n",
       "      chart.showLegend(true);\n",
       "\n",
       "\n",
       "\n",
       "        \n",
       "\n",
       "\n",
       "        d3.select('#stackedareachart svg')\n",
       "            .datum(datum)\n",
       "            .transition().duration(500)\n",
       "            .attr('width', 500)\n",
       "            .attr('height', 450)\n",
       "            .call(chart);\n",
       "\n",
       "\n",
       "    });\n",
       "\n",
       "\n",
       "\n",
       "    </script>\n",
       "\n",
       "    </body>\n",
       "</html>"
      ],
      "text/plain": [
       "<nvd3.stackedAreaChart.stackedAreaChart at 0x104ac0160>"
      ]
     },
     "execution_count": 2,
     "metadata": {},
     "output_type": "execute_result"
    }
   ],
   "source": [
    "type = 'stackedAreaChart'\n",
    "chart2 = nvd3.stackedAreaChart(name=type,height=450,width=500, \n",
    "                               use_interactive_guideline=True)\n",
    "nb_element = 50\n",
    "xdata = range(nb_element)\n",
    "ydata = [i * random.randint(1, 10) for i in range(nb_element)]\n",
    "ydata2 = [x * 2 for x in ydata]\n",
    "ydata3 = [x * 5 for x in ydata]\n",
    "chart2.add_serie(name=\"serie 1\", y=ydata, x=xdata)\n",
    "chart2.add_serie(name=\"serie 2\", y=ydata2, x=xdata)\n",
    "chart2.add_serie(name=\"serie 3\", y=ydata3, x=xdata)\n",
    "chart2"
   ]
  },
  {
   "cell_type": "code",
   "execution_count": 4,
   "metadata": {
    "collapsed": false
   },
   "outputs": [
    {
     "data": {
      "text/html": [
       "<!DOCTYPE html>\n",
       "<html lang=\"en\">\n",
       "    <head>\n",
       "        <meta charset=\"utf-8\" />\n",
       "        <link href=\"https://cdnjs.cloudflare.com/ajax/libs/nvd3/1.7.0/nv.d3.min.css\" rel=\"stylesheet\" />\n",
       "        <script src=\"https://cdnjs.cloudflare.com/ajax/libs/d3/3.5.5/d3.min.js\"></script>\n",
       "        <script src=\"https://cdnjs.cloudflare.com/ajax/libs/nvd3/1.7.0/nv.d3.min.js\"></script>\n",
       "    </head>\n",
       "    <body>\n",
       "        \n",
       "    <div id=\"scatterchart_1\"><svg style=\"width:600px;height:300px;\"></svg></div>\n",
       "\n",
       "\n",
       "    <script>\n",
       "\n",
       "\n",
       "\n",
       "            data_scatterchart_1=[{\"values\": [{\"y\": 0, \"shape\": \"circle\", \"x\": 5, \"size\": \"1\"}, {\"y\": 4, \"shape\": \"circle\", \"x\": 11, \"size\": \"1\"}, {\"y\": 12, \"shape\": \"circle\", \"x\": 11, \"size\": \"1\"}, {\"y\": 3, \"shape\": \"circle\", \"x\": 7, \"size\": \"1\"}, {\"y\": 12, \"shape\": \"circle\", \"x\": 7, \"size\": \"1\"}, {\"y\": 45, \"shape\": \"circle\", \"x\": 11, \"size\": \"1\"}, {\"y\": 6, \"shape\": \"circle\", \"x\": 14, \"size\": \"1\"}, {\"y\": 70, \"shape\": \"circle\", \"x\": 13, \"size\": \"1\"}, {\"y\": 16, \"shape\": \"circle\", \"x\": 12, \"size\": \"1\"}, {\"y\": 72, \"shape\": \"circle\", \"x\": 19, \"size\": \"1\"}, {\"y\": 100, \"shape\": \"circle\", \"x\": 17, \"size\": \"1\"}, {\"y\": 22, \"shape\": \"circle\", \"x\": 17, \"size\": \"1\"}, {\"y\": 72, \"shape\": \"circle\", \"x\": 20, \"size\": \"1\"}, {\"y\": 117, \"shape\": \"circle\", \"x\": 20, \"size\": \"1\"}, {\"y\": 42, \"shape\": \"circle\", \"x\": 23, \"size\": \"1\"}, {\"y\": 60, \"shape\": \"circle\", \"x\": 21, \"size\": \"1\"}, {\"y\": 80, \"shape\": \"circle\", \"x\": 21, \"size\": \"1\"}, {\"y\": 85, \"shape\": \"circle\", \"x\": 23, \"size\": \"1\"}, {\"y\": 90, \"shape\": \"circle\", \"x\": 23, \"size\": \"1\"}, {\"y\": 152, \"shape\": \"circle\", \"x\": 26, \"size\": \"1\"}, {\"y\": 140, \"shape\": \"circle\", \"x\": 23, \"size\": \"1\"}, {\"y\": 189, \"shape\": \"circle\", \"x\": 26, \"size\": \"1\"}, {\"y\": 154, \"shape\": \"circle\", \"x\": 26, \"size\": \"1\"}, {\"y\": 69, \"shape\": \"circle\", \"x\": 28, \"size\": \"1\"}, {\"y\": 168, \"shape\": \"circle\", \"x\": 27, \"size\": \"1\"}, {\"y\": 225, \"shape\": \"circle\", \"x\": 34, \"size\": \"1\"}, {\"y\": 156, \"shape\": \"circle\", \"x\": 35, \"size\": \"1\"}, {\"y\": 189, \"shape\": \"circle\", \"x\": 34, \"size\": \"1\"}, {\"y\": 28, \"shape\": \"circle\", \"x\": 33, \"size\": \"1\"}, {\"y\": 116, \"shape\": \"circle\", \"x\": 35, \"size\": \"1\"}, {\"y\": 90, \"shape\": \"circle\", \"x\": 36, \"size\": \"1\"}, {\"y\": 248, \"shape\": \"circle\", \"x\": 39, \"size\": \"1\"}, {\"y\": 256, \"shape\": \"circle\", \"x\": 35, \"size\": \"1\"}, {\"y\": 231, \"shape\": \"circle\", \"x\": 43, \"size\": \"1\"}, {\"y\": 136, \"shape\": \"circle\", \"x\": 43, \"size\": \"1\"}, {\"y\": 105, \"shape\": \"circle\", \"x\": 42, \"size\": \"1\"}, {\"y\": 288, \"shape\": \"circle\", \"x\": 46, \"size\": \"1\"}, {\"y\": 185, \"shape\": \"circle\", \"x\": 41, \"size\": \"1\"}, {\"y\": 228, \"shape\": \"circle\", \"x\": 45, \"size\": \"1\"}, {\"y\": 39, \"shape\": \"circle\", \"x\": 43, \"size\": \"1\"}, {\"y\": 360, \"shape\": \"circle\", \"x\": 42, \"size\": \"1\"}, {\"y\": 328, \"shape\": \"circle\", \"x\": 42, \"size\": \"1\"}, {\"y\": 294, \"shape\": \"circle\", \"x\": 46, \"size\": \"1\"}, {\"y\": 172, \"shape\": \"circle\", \"x\": 46, \"size\": \"1\"}, {\"y\": 220, \"shape\": \"circle\", \"x\": 47, \"size\": \"1\"}, {\"y\": 270, \"shape\": \"circle\", \"x\": 49, \"size\": \"1\"}, {\"y\": 414, \"shape\": \"circle\", \"x\": 50, \"size\": \"1\"}, {\"y\": 141, \"shape\": \"circle\", \"x\": 50, \"size\": \"1\"}, {\"y\": 288, \"shape\": \"circle\", \"x\": 52, \"size\": \"1\"}, {\"y\": 49, \"shape\": \"circle\", \"x\": 50, \"size\": \"1\"}], \"key\": \"serie 1\", \"yAxis\": \"1\"}, {\"values\": [{\"y\": 0, \"shape\": \"cross\", \"x\": 5, \"size\": \"10\"}, {\"y\": 8, \"shape\": \"cross\", \"x\": 11, \"size\": \"10\"}, {\"y\": 24, \"shape\": \"cross\", \"x\": 11, \"size\": \"10\"}, {\"y\": 6, \"shape\": \"cross\", \"x\": 7, \"size\": \"10\"}, {\"y\": 24, \"shape\": \"cross\", \"x\": 7, \"size\": \"10\"}, {\"y\": 90, \"shape\": \"cross\", \"x\": 11, \"size\": \"10\"}, {\"y\": 12, \"shape\": \"cross\", \"x\": 14, \"size\": \"10\"}, {\"y\": 140, \"shape\": \"cross\", \"x\": 13, \"size\": \"10\"}, {\"y\": 32, \"shape\": \"cross\", \"x\": 12, \"size\": \"10\"}, {\"y\": 144, \"shape\": \"cross\", \"x\": 19, \"size\": \"10\"}, {\"y\": 200, \"shape\": \"cross\", \"x\": 17, \"size\": \"10\"}, {\"y\": 44, \"shape\": \"cross\", \"x\": 17, \"size\": \"10\"}, {\"y\": 144, \"shape\": \"cross\", \"x\": 20, \"size\": \"10\"}, {\"y\": 234, \"shape\": \"cross\", \"x\": 20, \"size\": \"10\"}, {\"y\": 84, \"shape\": \"cross\", \"x\": 23, \"size\": \"10\"}, {\"y\": 120, \"shape\": \"cross\", \"x\": 21, \"size\": \"10\"}, {\"y\": 160, \"shape\": \"cross\", \"x\": 21, \"size\": \"10\"}, {\"y\": 170, \"shape\": \"cross\", \"x\": 23, \"size\": \"10\"}, {\"y\": 180, \"shape\": \"cross\", \"x\": 23, \"size\": \"10\"}, {\"y\": 304, \"shape\": \"cross\", \"x\": 26, \"size\": \"10\"}, {\"y\": 280, \"shape\": \"cross\", \"x\": 23, \"size\": \"10\"}, {\"y\": 378, \"shape\": \"cross\", \"x\": 26, \"size\": \"10\"}, {\"y\": 308, \"shape\": \"cross\", \"x\": 26, \"size\": \"10\"}, {\"y\": 138, \"shape\": \"cross\", \"x\": 28, \"size\": \"10\"}, {\"y\": 336, \"shape\": \"cross\", \"x\": 27, \"size\": \"10\"}, {\"y\": 450, \"shape\": \"cross\", \"x\": 34, \"size\": \"10\"}, {\"y\": 312, \"shape\": \"cross\", \"x\": 35, \"size\": \"10\"}, {\"y\": 378, \"shape\": \"cross\", \"x\": 34, \"size\": \"10\"}, {\"y\": 56, \"shape\": \"cross\", \"x\": 33, \"size\": \"10\"}, {\"y\": 232, \"shape\": \"cross\", \"x\": 35, \"size\": \"10\"}, {\"y\": 180, \"shape\": \"cross\", \"x\": 36, \"size\": \"10\"}, {\"y\": 496, \"shape\": \"cross\", \"x\": 39, \"size\": \"10\"}, {\"y\": 512, \"shape\": \"cross\", \"x\": 35, \"size\": \"10\"}, {\"y\": 462, \"shape\": \"cross\", \"x\": 43, \"size\": \"10\"}, {\"y\": 272, \"shape\": \"cross\", \"x\": 43, \"size\": \"10\"}, {\"y\": 210, \"shape\": \"cross\", \"x\": 42, \"size\": \"10\"}, {\"y\": 576, \"shape\": \"cross\", \"x\": 46, \"size\": \"10\"}, {\"y\": 370, \"shape\": \"cross\", \"x\": 41, \"size\": \"10\"}, {\"y\": 456, \"shape\": \"cross\", \"x\": 45, \"size\": \"10\"}, {\"y\": 78, \"shape\": \"cross\", \"x\": 43, \"size\": \"10\"}, {\"y\": 720, \"shape\": \"cross\", \"x\": 42, \"size\": \"10\"}, {\"y\": 656, \"shape\": \"cross\", \"x\": 42, \"size\": \"10\"}, {\"y\": 588, \"shape\": \"cross\", \"x\": 46, \"size\": \"10\"}, {\"y\": 344, \"shape\": \"cross\", \"x\": 46, \"size\": \"10\"}, {\"y\": 440, \"shape\": \"cross\", \"x\": 47, \"size\": \"10\"}, {\"y\": 540, \"shape\": \"cross\", \"x\": 49, \"size\": \"10\"}, {\"y\": 828, \"shape\": \"cross\", \"x\": 50, \"size\": \"10\"}, {\"y\": 282, \"shape\": \"cross\", \"x\": 50, \"size\": \"10\"}, {\"y\": 576, \"shape\": \"cross\", \"x\": 52, \"size\": \"10\"}, {\"y\": 98, \"shape\": \"cross\", \"x\": 50, \"size\": \"10\"}], \"key\": \"serie 2\", \"yAxis\": \"1\"}, {\"values\": [{\"y\": 0, \"shape\": \"triangle-up\", \"x\": 5, \"size\": \"100\"}, {\"y\": 20, \"shape\": \"triangle-up\", \"x\": 11, \"size\": \"100\"}, {\"y\": 60, \"shape\": \"triangle-up\", \"x\": 11, \"size\": \"100\"}, {\"y\": 15, \"shape\": \"triangle-up\", \"x\": 7, \"size\": \"100\"}, {\"y\": 60, \"shape\": \"triangle-up\", \"x\": 7, \"size\": \"100\"}, {\"y\": 225, \"shape\": \"triangle-up\", \"x\": 11, \"size\": \"100\"}, {\"y\": 30, \"shape\": \"triangle-up\", \"x\": 14, \"size\": \"100\"}, {\"y\": 350, \"shape\": \"triangle-up\", \"x\": 13, \"size\": \"100\"}, {\"y\": 80, \"shape\": \"triangle-up\", \"x\": 12, \"size\": \"100\"}, {\"y\": 360, \"shape\": \"triangle-up\", \"x\": 19, \"size\": \"100\"}, {\"y\": 500, \"shape\": \"triangle-up\", \"x\": 17, \"size\": \"100\"}, {\"y\": 110, \"shape\": \"triangle-up\", \"x\": 17, \"size\": \"100\"}, {\"y\": 360, \"shape\": \"triangle-up\", \"x\": 20, \"size\": \"100\"}, {\"y\": 585, \"shape\": \"triangle-up\", \"x\": 20, \"size\": \"100\"}, {\"y\": 210, \"shape\": \"triangle-up\", \"x\": 23, \"size\": \"100\"}, {\"y\": 300, \"shape\": \"triangle-up\", \"x\": 21, \"size\": \"100\"}, {\"y\": 400, \"shape\": \"triangle-up\", \"x\": 21, \"size\": \"100\"}, {\"y\": 425, \"shape\": \"triangle-up\", \"x\": 23, \"size\": \"100\"}, {\"y\": 450, \"shape\": \"triangle-up\", \"x\": 23, \"size\": \"100\"}, {\"y\": 760, \"shape\": \"triangle-up\", \"x\": 26, \"size\": \"100\"}, {\"y\": 700, \"shape\": \"triangle-up\", \"x\": 23, \"size\": \"100\"}, {\"y\": 945, \"shape\": \"triangle-up\", \"x\": 26, \"size\": \"100\"}, {\"y\": 770, \"shape\": \"triangle-up\", \"x\": 26, \"size\": \"100\"}, {\"y\": 345, \"shape\": \"triangle-up\", \"x\": 28, \"size\": \"100\"}, {\"y\": 840, \"shape\": \"triangle-up\", \"x\": 27, \"size\": \"100\"}, {\"y\": 1125, \"shape\": \"triangle-up\", \"x\": 34, \"size\": \"100\"}, {\"y\": 780, \"shape\": \"triangle-up\", \"x\": 35, \"size\": \"100\"}, {\"y\": 945, \"shape\": \"triangle-up\", \"x\": 34, \"size\": \"100\"}, {\"y\": 140, \"shape\": \"triangle-up\", \"x\": 33, \"size\": \"100\"}, {\"y\": 580, \"shape\": \"triangle-up\", \"x\": 35, \"size\": \"100\"}, {\"y\": 450, \"shape\": \"triangle-up\", \"x\": 36, \"size\": \"100\"}, {\"y\": 1240, \"shape\": \"triangle-up\", \"x\": 39, \"size\": \"100\"}, {\"y\": 1280, \"shape\": \"triangle-up\", \"x\": 35, \"size\": \"100\"}, {\"y\": 1155, \"shape\": \"triangle-up\", \"x\": 43, \"size\": \"100\"}, {\"y\": 680, \"shape\": \"triangle-up\", \"x\": 43, \"size\": \"100\"}, {\"y\": 525, \"shape\": \"triangle-up\", \"x\": 42, \"size\": \"100\"}, {\"y\": 1440, \"shape\": \"triangle-up\", \"x\": 46, \"size\": \"100\"}, {\"y\": 925, \"shape\": \"triangle-up\", \"x\": 41, \"size\": \"100\"}, {\"y\": 1140, \"shape\": \"triangle-up\", \"x\": 45, \"size\": \"100\"}, {\"y\": 195, \"shape\": \"triangle-up\", \"x\": 43, \"size\": \"100\"}, {\"y\": 1800, \"shape\": \"triangle-up\", \"x\": 42, \"size\": \"100\"}, {\"y\": 1640, \"shape\": \"triangle-up\", \"x\": 42, \"size\": \"100\"}, {\"y\": 1470, \"shape\": \"triangle-up\", \"x\": 46, \"size\": \"100\"}, {\"y\": 860, \"shape\": \"triangle-up\", \"x\": 46, \"size\": \"100\"}, {\"y\": 1100, \"shape\": \"triangle-up\", \"x\": 47, \"size\": \"100\"}, {\"y\": 1350, \"shape\": \"triangle-up\", \"x\": 49, \"size\": \"100\"}, {\"y\": 2070, \"shape\": \"triangle-up\", \"x\": 50, \"size\": \"100\"}, {\"y\": 705, \"shape\": \"triangle-up\", \"x\": 50, \"size\": \"100\"}, {\"y\": 1440, \"shape\": \"triangle-up\", \"x\": 52, \"size\": \"100\"}, {\"y\": 245, \"shape\": \"triangle-up\", \"x\": 50, \"size\": \"100\"}], \"key\": \"serie 3\", \"yAxis\": \"1\"}];\n",
       "\n",
       "\n",
       "        nv.addGraph(function() {\n",
       "        var chart = nv.models.scatterChart();\n",
       "\n",
       "        chart.margin({top: 30, right: 60, bottom: 20, left: 60});\n",
       "\n",
       "        var datum = data_scatterchart_1;\n",
       "\n",
       "\n",
       "\n",
       "                chart.xAxis\n",
       "                .tickFormat(d3.format(',.02f'));\n",
       "            chart.yAxis\n",
       "                .tickFormat(d3.format(',.02f'));\n",
       "\n",
       "\n",
       "\n",
       "          chart.showLegend(true);\n",
       "\n",
       "\n",
       "    \n",
       "\n",
       "        \n",
       "\n",
       "\n",
       "\n",
       "\n",
       "    chart\n",
       "        .showDistX(true)\n",
       "        .showDistY(true)\n",
       "        .color(d3.scale.category10().range());\n",
       "\n",
       "            d3.select('#scatterchart_1 svg')\n",
       "            .datum(datum)\n",
       "            .transition().duration(500)\n",
       "            .attr('width', 600)\n",
       "            .attr('height', 300)\n",
       "            .call(chart);\n",
       "\n",
       "\n",
       "        });\n",
       "\n",
       "\n",
       "\n",
       "    </script>\n",
       "\n",
       "    </body>\n",
       "</html>"
      ],
      "text/plain": [
       "<nvd3.scatterChart.scatterChart at 0x104abeb38>"
      ]
     },
     "execution_count": 4,
     "metadata": {},
     "output_type": "execute_result"
    }
   ],
   "source": [
    "chart = nvd3.scatterChart(name='scatterChart_1', width=600, height=300, x_is_date=False)\n",
    "nb_element = 50\n",
    "xdata = [i + random.randint(1, 10) for i in range(nb_element)]\n",
    "ydata = [i * random.randint(1, 10) for i in range(nb_element)]\n",
    "ydata2 = [x * 2 for x in ydata]\n",
    "ydata3 = [x * 5 for x in ydata]\n",
    "\n",
    "kwargs1 = {'shape': 'circle', 'size': '1'}\n",
    "kwargs2 = {'shape': 'cross', 'size': '10'}\n",
    "kwargs3 = {'shape': 'triangle-up', 'size': '100'}\n",
    "\n",
    "extra_serie = {\"tooltip\": {\"y_start\": \"\", \"y_end\": \" calls\"}}\n",
    "chart.add_serie(name=\"serie 1\", y=ydata, x=xdata, extra=extra_serie, **kwargs1)\n",
    "chart.add_serie(name=\"serie 2\", y=ydata2, x=xdata, extra=extra_serie, **kwargs2)\n",
    "chart.add_serie(name=\"serie 3\", y=ydata3, x=xdata, extra=extra_serie, **kwargs3)\n",
    "chart"
   ]
  },
  {
   "cell_type": "code",
   "execution_count": 5,
   "metadata": {
    "collapsed": false
   },
   "outputs": [
    {
     "data": {
      "text/html": [
       "<!DOCTYPE html>\n",
       "<html lang=\"en\">\n",
       "    <head>\n",
       "        <meta charset=\"utf-8\" />\n",
       "        <link href=\"https://cdnjs.cloudflare.com/ajax/libs/nvd3/1.7.0/nv.d3.min.css\" rel=\"stylesheet\" />\n",
       "        <script src=\"https://cdnjs.cloudflare.com/ajax/libs/d3/3.5.5/d3.min.js\"></script>\n",
       "        <script src=\"https://cdnjs.cloudflare.com/ajax/libs/nvd3/1.7.0/nv.d3.min.js\"></script>\n",
       "    </head>\n",
       "    <body>\n",
       "        \n",
       "    \n",
       "\n",
       "<h2>pieChart</h2>\n",
       "\n",
       "<div id=\"piechart\"><svg style=\"width:450px;height:450px;\"></svg></div>\n",
       "\n",
       "\n",
       "    <script>\n",
       "\n",
       "\n",
       "\n",
       "    data_piechart=[{\"values\": [{\"value\": 3, \"label\": \"Orange\"}, {\"value\": 4, \"label\": \"Banana\"}, {\"value\": 0, \"label\": \"Pear\"}, {\"value\": 1, \"label\": \"Kiwi\"}, {\"value\": 5, \"label\": \"Apple\"}, {\"value\": 7, \"label\": \"Strawberry\"}, {\"value\": 3, \"label\": \"Pineapple\"}], \"key\": \"Serie 1\"}];\n",
       "\n",
       "    nv.addGraph(function() {\n",
       "        var chart = nv.models.pieChart();\n",
       "        chart.margin({top: 30, right: 60, bottom: 20, left: 60});\n",
       "        var datum = data_piechart[0].values;\n",
       "\n",
       "        chart.color(d3.scale.category20c().range());\n",
       "\n",
       "    chart.tooltipContent(function(key, y, e, graph) {\n",
       "          var x = String(key);\n",
       "              var y =  String(y)  + ' cal';\n",
       "\n",
       "              tooltip_str = '<center><b>'+x+'</b></center>' + y;\n",
       "              return tooltip_str;\n",
       "              });\n",
       "        chart.showLabels(true);\n",
       "\n",
       "            chart.donut(false);\n",
       "\n",
       "    chart.showLegend(true);\n",
       "\n",
       "\n",
       "\n",
       "\n",
       "        chart\n",
       "            .x(function(d) { return d.label })\n",
       "            .y(function(d) { return d.value });\n",
       "\n",
       "        chart.width(450);\n",
       "\n",
       "        chart.height(450);\n",
       "\n",
       "\n",
       "            d3.select('#piechart svg')\n",
       "            .datum(datum)\n",
       "            .transition().duration(500)\n",
       "            .attr('width', 450)\n",
       "            .attr('height', 450)\n",
       "            .call(chart);\n",
       "\n",
       "\n",
       "        });\n",
       "\n",
       "\n",
       "\n",
       "    </script>\n",
       "\n",
       "    </body>\n",
       "</html>"
      ],
      "text/plain": [
       "<nvd3.pieChart.pieChart at 0x104aabd68>"
      ]
     },
     "execution_count": 5,
     "metadata": {},
     "output_type": "execute_result"
    }
   ],
   "source": [
    "\n",
    "type = 'pieChart'\n",
    "chart1 = nvd3.pieChart(name=type, color_category='category20c', height=450, width=450)\n",
    "chart1.set_containerheader(\"\\n\\n<h2>\" + type + \"</h2>\\n\\n\")\n",
    "\n",
    "#Create the keys\n",
    "xdata = [\"Orange\", \"Banana\", \"Pear\", \"Kiwi\", \"Apple\", \"Strawberry\", \"Pineapple\"]\n",
    "ydata = [3, 4, 0, 1, 5, 7, 3]\n",
    "\n",
    "#Add the serie\n",
    "extra_serie = {\"tooltip\": {\"y_start\": \"\", \"y_end\": \" cal\"}}\n",
    "chart1.add_serie(y=ydata, x=xdata, extra=extra_serie)\n",
    "chart1"
   ]
  },
  {
   "cell_type": "code",
   "execution_count": null,
   "metadata": {
    "collapsed": true
   },
   "outputs": [],
   "source": []
  }
 ],
 "metadata": {
  "kernelspec": {
   "display_name": "Python [conda root]",
   "language": "python",
   "name": "conda-root-py"
  },
  "language_info": {
   "codemirror_mode": {
    "name": "ipython",
    "version": 3
   },
   "file_extension": ".py",
   "mimetype": "text/x-python",
   "name": "python",
   "nbconvert_exporter": "python",
   "pygments_lexer": "ipython3",
   "version": "3.5.2"
  }
 },
 "nbformat": 4,
 "nbformat_minor": 1
}
